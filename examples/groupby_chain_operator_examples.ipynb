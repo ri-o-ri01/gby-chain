{
 "cells": [
  {
   "cell_type": "markdown",
   "source": [
    " "
   ],
   "metadata": {
    "collapsed": false
   },
   "id": "53ce7f0f1262dc46"
  },
  {
   "cell_type": "markdown",
   "source": [
    "\n",
    "# 説明"
   ],
   "metadata": {
    "collapsed": false
   },
   "id": "6c6339bb5e98b48b"
  },
  {
   "cell_type": "markdown",
   "source": [
    " * 「Optiver - Trading at the Close」コンペでは、\"stock_id\", \"date_id\", \"seconds_in_bucket\"のグループ化をして特徴量を生成した。\n",
    " * 特徴量の中には、複数回グループ化して関数を適用する処理をするものが存在。こうした処理を効率的に行うためにGroupbyChainOperatorクラスを実装\n",
    "   "
   ],
   "metadata": {
    "collapsed": false
   },
   "id": "eef6eda350d8ce14"
  },
  {
   "cell_type": "code",
   "outputs": [],
   "source": [
    "import seaborn as sns\n",
    "import pandas as pd\n",
    "import numpy as np\n",
    "from numba import jit \n",
    "\n",
    "import sys\n",
    "import os\n",
    "\n",
    "from gbychain.code.groupby_chain_operator import GroupbyChainOperator\n"
   ],
   "metadata": {
    "collapsed": false,
    "ExecuteTime": {
     "end_time": "2023-12-27T23:47:34.002274900Z",
     "start_time": "2023-12-27T23:47:33.861137100Z"
    }
   },
   "id": "15ec5af1607eb77c",
   "execution_count": 30
  },
  {
   "cell_type": "code",
   "outputs": [],
   "source": [],
   "metadata": {
    "collapsed": false,
    "ExecuteTime": {
     "end_time": "2023-12-27T23:47:34.011784400Z",
     "start_time": "2023-12-27T23:47:33.997766600Z"
    }
   },
   "id": "2e2a516340cb8c10",
   "execution_count": 30
  },
  {
   "cell_type": "markdown",
   "source": [
    "# GroupbyChainOperatorクラス"
   ],
   "metadata": {
    "collapsed": false
   },
   "id": "bdd11cf59385412f"
  },
  {
   "cell_type": "markdown",
   "source": [
    "  * groupby関数を複数回適用する場合の処理を表現。\n",
    "  * ここでは、初期値のinit_dfにgroupby関数を適用した回数をlevelと表し、初期値はlevel=0の扱いとする。\n",
    "  * 各levelごとに生成した結果を保存。関数はfunc_dictに格納されている。列名は各levelの情報を数珠つなぎで2通りの命名法を用意\n",
    "    1. 関数名を使用 \n",
    "        * [init_dfの列名]\\_[level=1で使用した関数名]\\_[level=2で使用した関数名]_,,,,\n",
    "            * 例: ask_price_mean_max \n",
    "    2. 番号を使用 \n",
    "        * [init_dfの列名]\\_[level=1で使用した関数のfunc_dictでの位置]\\_[level=2で使用した関数のfunc_dictでの位置]_,,,,\n",
    "            * 例: ask_price_1_0"
   ],
   "metadata": {
    "collapsed": false
   },
   "id": "a036cfe81f0f90ea"
  },
  {
   "cell_type": "markdown",
   "source": [
    "## 初期化"
   ],
   "metadata": {
    "collapsed": false
   },
   "id": "5ee77e59b0d3972f"
  },
  {
   "cell_type": "markdown",
   "source": [
    "## update_by_xxx関数"
   ],
   "metadata": {
    "collapsed": false
   },
   "id": "1aec9ab4d357919e"
  },
  {
   "cell_type": "markdown",
   "source": [
    " * update_by_xxxとついた名前の関数でグループ化した処理を行う。関数名と説明は以下の通り\n",
    "\n",
    "\n"
   ],
   "metadata": {
    "collapsed": false
   },
   "id": "f0887b0690898d6"
  },
  {
   "cell_type": "markdown",
   "source": [
    "<div align=\"center\">\n",
    "\n",
    "| 関数名                 | 説明                                     |\n",
    "|---------------------|----------------------------------------|\n",
    "| update_by_agg       | agg関数を適用                               | \n",
    "| update_by_transform | transform関数を適用                         |\n",
    "| update_by_apply2_agg | 2つの列x, yについてapply関数を適用して、1次元の出力結果を生成。、 |\n",
    "\n",
    "</div>\n",
    "\n",
    "\n"
   ],
   "metadata": {
    "collapsed": false
   },
   "id": "e88d55c433af86fb"
  },
  {
   "cell_type": "markdown",
   "source": [
    " * この関数の引数について、以下に説明\n",
    "    * groups(List[str]) - [groupby関数](https://pandas.pydata.org/docs/reference/api/pandas.DataFrame.groupby.html)のbyに対応\n",
    "    * indeces(List[str]|None) - transform関数でgroupsで指定した列に対応する順序を表す列。指定しなくても問題なし\n",
    "    * tgt_names(List[str]|None) - groupby関数で関数に適用される列(ex:df.groupby([\"a\"])[\"b\", \"c\"]の[\"b\", \"c\"]を指す)、指定しない場合は前のlevelの生成結果の列名すべてが対象となる\n",
    "    * func_dict(Dict[str, Any]|None) - \n",
    "        * groupby関数でagg, transform, applyで使用する関数のdict。前のlevelと同じものであれば省略は可能。\n",
    "        - update_by_agg、update_by_transformが対象\n",
    "    - col2_func_tpl_list(List[Tuple[str, str, Callable]])\n",
    "        - groupby関数でapply、aggを順に適用。グループごとにCallable(str, str)の出力結果(1次元)が取得  \n",
    "        - update_by_apply2_aggが対象\n",
    "    * funcs_name(str|None) - func_dictを示す名前で、get_log関数に関連。\n",
    "    * output_name(str|None) - Noneでない場合、get_log関数で各levelの結果の名前がoutput_nameになる。\n",
    "   \n",
    " * アウトプットとしてGroupbyResultを生成。この生成結果はself.level_result_dictにlevelごと保存。 \n",
    "    * GroupbyResultのoutput_dfがグループ化して関数を適用したdfで、groups, indeces, tgt_namesにfunc_dictをグループごとに適用した列で構成\n"
   ],
   "metadata": {
    "collapsed": false
   },
   "id": "40a7644f0c686c59"
  },
  {
   "cell_type": "markdown",
   "source": [
    " ## get_output_df関数"
   ],
   "metadata": {
    "collapsed": false
   },
   "id": "9c4be0cac89257b4"
  },
  {
   "cell_type": "markdown",
   "source": [
    " * levelを指定してGroupbyResultのoutput_dfを取得。列名は関数名、番号を使用した記法の2つに対応\n",
    "     \n",
    "     * use_func_order(bool) - Trueの場合は番号を使用した記法、Falseの場合は関数名を使用した記法で列名を表示"
   ],
   "metadata": {
    "collapsed": false
   },
   "id": "22c055bf6611adfc"
  },
  {
   "cell_type": "markdown",
   "source": [
    "## get_log関数"
   ],
   "metadata": {
    "collapsed": false
   },
   "id": "ecd689cdf9e72d4e"
  },
  {
   "cell_type": "markdown",
   "source": [
    "* 各levelで生成したdfの名前の一覧を取得\n",
    "    * level=0のときは[init_dfの列名]_0\n",
    "        * 例: init_df_0\n",
    "    * level>=1のときは[手法]_[groupsの名前]_[関数dictの名前]_[level]\n",
    "        * [手法]はupdate_by_xxx関数のxxxの値となる。\n",
    "        * [groupsの名前]はupdate_by_xxx関数の引数のgroupsの値を用いて生成。具体的な生成法は以下の通り\n",
    "            * groupsの値を\"_\"区切りで分割し、分割した要素の先頭をつなげる\n",
    "            * つなげた上記の値を\"-\"で結合\n",
    "                * 例: groups=[\"stock_id\", \"date_id\"]の場合はsi-di\n",
    "        * [関数dictの名前]はupdate_by_xxx関数の引数のfuncs_nameを使用。funcs_nameを指定しない場合はスキップ\n",
    "\n"
   ],
   "metadata": {
    "collapsed": false
   },
   "id": "71747f831dbf486c"
  },
  {
   "cell_type": "markdown",
   "source": [],
   "metadata": {
    "collapsed": false
   },
   "id": "ed2876c581de2a40"
  },
  {
   "cell_type": "markdown",
   "source": [
    "## merge_all_level_df"
   ],
   "metadata": {
    "collapsed": false
   },
   "id": "11a8170032422ff8"
  },
  {
   "cell_type": "markdown",
   "source": [
    " * すべてのlevelのGroupbyResultのoutput_dfを結合\n",
    "    * level(int) - 0の場合は初期化で入れたinit_dfを出力。\n",
    "     * use_func_order(bool) - Trueの場合は番号を使用した記法、Falseの場合は関数名を使用した記法で列名を表示"
   ],
   "metadata": {
    "collapsed": false
   },
   "id": "a2b6e0a24b3feed4"
  },
  {
   "cell_type": "markdown",
   "source": [
    "\n"
   ],
   "metadata": {
    "collapsed": false
   },
   "id": "d8041340625a5d8d"
  },
  {
   "cell_type": "markdown",
   "source": [
    "# 実行例\n",
    "\n"
   ],
   "metadata": {
    "collapsed": false
   },
   "id": "e1a20ebc5bb150db"
  },
  {
   "cell_type": "markdown",
   "source": [
    "  * 「Optiver - Trading at the Close」コンペのデータを使用。"
   ],
   "metadata": {
    "collapsed": false
   },
   "id": "37a9641f479452f7"
  },
  {
   "cell_type": "markdown",
   "source": [
    "## Transform->Aggregate"
   ],
   "metadata": {
    "collapsed": false
   },
   "id": "96e5d36b5b4b6651"
  },
  {
   "cell_type": "markdown",
   "source": [
    " * GroupbyChainOperatorクラスの使用例を紹介する。適用するフローの例は以下の通り\n",
    "    * 1.\"stock_id\", \"date_id\"をグループ化して、移動平均を計算。(Transform)\n",
    "    * 2.\"stock_id\", \"date_id\"をグループ化して、1で計算した最大値を計算。(agg)\n",
    "   "
   ],
   "metadata": {
    "collapsed": false
   },
   "id": "c66d3d82692f0c0d"
  },
  {
   "cell_type": "code",
   "outputs": [],
   "source": [
    "sub_train = pd.read_csv('../data/sub_train.csv')"
   ],
   "metadata": {
    "collapsed": false,
    "ExecuteTime": {
     "end_time": "2023-12-27T23:47:34.036800700Z",
     "start_time": "2023-12-27T23:47:34.013783600Z"
    }
   },
   "id": "84363e831999979e",
   "execution_count": 31
  },
  {
   "cell_type": "markdown",
   "source": [
    "### 実行"
   ],
   "metadata": {
    "collapsed": false
   },
   "id": "d196145fe703aef0"
  },
  {
   "cell_type": "code",
   "outputs": [
    {
     "data": {
      "text/plain": "<gbychain.code.groupby_chain_operator.GroupbyChainOperator at 0x275981a4ee0>"
     },
     "execution_count": 32,
     "metadata": {},
     "output_type": "execute_result"
    }
   ],
   "source": [
    "tgt_columns =  [\"reference_price\", \"far_price\"]\n",
    "\n",
    "@jit(nopython=True)\n",
    "def ewm_array(arr, span):\n",
    "    n = len(arr)\n",
    "    ewma = np.empty(n, dtype=np.float64)\n",
    "    alpha = 2 / (span + 1)\n",
    "    ewma[0] = arr[0]\n",
    "    for i in range(1, n):\n",
    "        ewma[i] = alpha * arr[i] + (1 - alpha) * ewma[i - 1]\n",
    "    return ewma\n",
    "\n",
    "func_dict = {    \n",
    "    \"ewm1\":lambda x: x.values,\n",
    "    \"ewm5\":lambda x: ewm_array(x.values, 5),\n",
    "}\n",
    "func_dict2 = {\"mean\":\"mean\", \"zero\": lambda x : 0, \"std\":\"std\"}\n",
    "\n",
    "gcop = GroupbyChainOperator(sub_train, \"sub_train\")\n",
    "(\n",
    "    gcop.update_by_transform([\"date_id\", \"stock_id\"], [\"seconds_in_bucket\"], tgt_columns, func_dict)\n",
    "     .update_by_agg( [\"date_id\", \"stock_id\"], [\"seconds_in_bucket\"], func_dict= func_dict2, funcs_name=\"max|zero|std\", is_debug=False)\n",
    ")\n",
    "\n"
   ],
   "metadata": {
    "collapsed": false,
    "ExecuteTime": {
     "end_time": "2023-12-27T23:47:34.162923500Z",
     "start_time": "2023-12-27T23:47:34.040309800Z"
    }
   },
   "id": "4d6a34ff514e732",
   "execution_count": 32
  },
  {
   "cell_type": "markdown",
   "source": [
    "### get_output_df"
   ],
   "metadata": {
    "collapsed": false
   },
   "id": "1678c7f2486e77fd"
  },
  {
   "cell_type": "markdown",
   "source": [
    " * 2回グループ化した結果は以下の通り"
   ],
   "metadata": {
    "collapsed": false
   },
   "id": "8c28d769ac9e5508"
  },
  {
   "cell_type": "code",
   "outputs": [
    {
     "data": {
      "text/plain": "   date_id  stock_id  reference_price_ewm1_mean  reference_price_ewm1_zero  \\\n0        0         0                   0.999664                          0   \n1        0         1                   0.999645                          0   \n2        0         2                   0.999543                          0   \n3        1         0                   0.999050                          0   \n4        1         1                   1.000239                          0   \n5        1         2                   1.000507                          0   \n6        2         0                   0.998940                          0   \n7        2         1                   0.996320                          0   \n8        2         2                   0.999476                          0   \n\n   reference_price_ewm1_std  reference_price_ewm5_mean  \\\n0                  0.000435                   0.999676   \n1                  0.000659                   0.999626   \n2                  0.000382                   0.999528   \n3                  0.000391                   0.999063   \n4                  0.000597                   1.000183   \n5                  0.000995                   1.000517   \n6                  0.000498                   0.998986   \n7                  0.001538                   0.996467   \n8                  0.000632                   0.999405   \n\n   reference_price_ewm5_zero  reference_price_ewm5_std  far_price_ewm1_mean  \\\n0                          0                  0.000381             0.999692   \n1                          0                  0.000548             0.994105   \n2                          0                  0.000260             0.999773   \n3                          0                  0.000324             1.009668   \n4                          0                  0.000482             1.000608   \n5                          0                  0.000892             1.028259   \n6                          0                  0.000478             0.998583   \n7                          0                  0.001635             0.966981   \n8                          0                  0.000517             0.998969   \n\n   far_price_ewm1_zero  far_price_ewm1_std  far_price_ewm5_mean  \\\n0                    0            0.000521                  NaN   \n1                    0            0.004752                  NaN   \n2                    0            0.000321                  NaN   \n3                    0            0.006552                  NaN   \n4                    0            0.000418                  NaN   \n5                    0            0.015385                  NaN   \n6                    0            0.000233                  NaN   \n7                    0            0.020634                  NaN   \n8                    0            0.000333                  NaN   \n\n   far_price_ewm5_zero  far_price_ewm5_std  \n0                    0                 NaN  \n1                    0                 NaN  \n2                    0                 NaN  \n3                    0                 NaN  \n4                    0                 NaN  \n5                    0                 NaN  \n6                    0                 NaN  \n7                    0                 NaN  \n8                    0                 NaN  ",
      "text/html": "<div>\n<style scoped>\n    .dataframe tbody tr th:only-of-type {\n        vertical-align: middle;\n    }\n\n    .dataframe tbody tr th {\n        vertical-align: top;\n    }\n\n    .dataframe thead th {\n        text-align: right;\n    }\n</style>\n<table border=\"1\" class=\"dataframe\">\n  <thead>\n    <tr style=\"text-align: right;\">\n      <th></th>\n      <th>date_id</th>\n      <th>stock_id</th>\n      <th>reference_price_ewm1_mean</th>\n      <th>reference_price_ewm1_zero</th>\n      <th>reference_price_ewm1_std</th>\n      <th>reference_price_ewm5_mean</th>\n      <th>reference_price_ewm5_zero</th>\n      <th>reference_price_ewm5_std</th>\n      <th>far_price_ewm1_mean</th>\n      <th>far_price_ewm1_zero</th>\n      <th>far_price_ewm1_std</th>\n      <th>far_price_ewm5_mean</th>\n      <th>far_price_ewm5_zero</th>\n      <th>far_price_ewm5_std</th>\n    </tr>\n  </thead>\n  <tbody>\n    <tr>\n      <th>0</th>\n      <td>0</td>\n      <td>0</td>\n      <td>0.999664</td>\n      <td>0</td>\n      <td>0.000435</td>\n      <td>0.999676</td>\n      <td>0</td>\n      <td>0.000381</td>\n      <td>0.999692</td>\n      <td>0</td>\n      <td>0.000521</td>\n      <td>NaN</td>\n      <td>0</td>\n      <td>NaN</td>\n    </tr>\n    <tr>\n      <th>1</th>\n      <td>0</td>\n      <td>1</td>\n      <td>0.999645</td>\n      <td>0</td>\n      <td>0.000659</td>\n      <td>0.999626</td>\n      <td>0</td>\n      <td>0.000548</td>\n      <td>0.994105</td>\n      <td>0</td>\n      <td>0.004752</td>\n      <td>NaN</td>\n      <td>0</td>\n      <td>NaN</td>\n    </tr>\n    <tr>\n      <th>2</th>\n      <td>0</td>\n      <td>2</td>\n      <td>0.999543</td>\n      <td>0</td>\n      <td>0.000382</td>\n      <td>0.999528</td>\n      <td>0</td>\n      <td>0.000260</td>\n      <td>0.999773</td>\n      <td>0</td>\n      <td>0.000321</td>\n      <td>NaN</td>\n      <td>0</td>\n      <td>NaN</td>\n    </tr>\n    <tr>\n      <th>3</th>\n      <td>1</td>\n      <td>0</td>\n      <td>0.999050</td>\n      <td>0</td>\n      <td>0.000391</td>\n      <td>0.999063</td>\n      <td>0</td>\n      <td>0.000324</td>\n      <td>1.009668</td>\n      <td>0</td>\n      <td>0.006552</td>\n      <td>NaN</td>\n      <td>0</td>\n      <td>NaN</td>\n    </tr>\n    <tr>\n      <th>4</th>\n      <td>1</td>\n      <td>1</td>\n      <td>1.000239</td>\n      <td>0</td>\n      <td>0.000597</td>\n      <td>1.000183</td>\n      <td>0</td>\n      <td>0.000482</td>\n      <td>1.000608</td>\n      <td>0</td>\n      <td>0.000418</td>\n      <td>NaN</td>\n      <td>0</td>\n      <td>NaN</td>\n    </tr>\n    <tr>\n      <th>5</th>\n      <td>1</td>\n      <td>2</td>\n      <td>1.000507</td>\n      <td>0</td>\n      <td>0.000995</td>\n      <td>1.000517</td>\n      <td>0</td>\n      <td>0.000892</td>\n      <td>1.028259</td>\n      <td>0</td>\n      <td>0.015385</td>\n      <td>NaN</td>\n      <td>0</td>\n      <td>NaN</td>\n    </tr>\n    <tr>\n      <th>6</th>\n      <td>2</td>\n      <td>0</td>\n      <td>0.998940</td>\n      <td>0</td>\n      <td>0.000498</td>\n      <td>0.998986</td>\n      <td>0</td>\n      <td>0.000478</td>\n      <td>0.998583</td>\n      <td>0</td>\n      <td>0.000233</td>\n      <td>NaN</td>\n      <td>0</td>\n      <td>NaN</td>\n    </tr>\n    <tr>\n      <th>7</th>\n      <td>2</td>\n      <td>1</td>\n      <td>0.996320</td>\n      <td>0</td>\n      <td>0.001538</td>\n      <td>0.996467</td>\n      <td>0</td>\n      <td>0.001635</td>\n      <td>0.966981</td>\n      <td>0</td>\n      <td>0.020634</td>\n      <td>NaN</td>\n      <td>0</td>\n      <td>NaN</td>\n    </tr>\n    <tr>\n      <th>8</th>\n      <td>2</td>\n      <td>2</td>\n      <td>0.999476</td>\n      <td>0</td>\n      <td>0.000632</td>\n      <td>0.999405</td>\n      <td>0</td>\n      <td>0.000517</td>\n      <td>0.998969</td>\n      <td>0</td>\n      <td>0.000333</td>\n      <td>NaN</td>\n      <td>0</td>\n      <td>NaN</td>\n    </tr>\n  </tbody>\n</table>\n</div>"
     },
     "execution_count": 33,
     "metadata": {},
     "output_type": "execute_result"
    }
   ],
   "source": [
    "gcop.get_output_df(2, use_func_order=False)"
   ],
   "metadata": {
    "collapsed": false,
    "ExecuteTime": {
     "end_time": "2023-12-27T23:47:34.164923600Z",
     "start_time": "2023-12-27T23:47:34.131396900Z"
    }
   },
   "id": "93f6b378a31b7496",
   "execution_count": 33
  },
  {
   "cell_type": "markdown",
   "source": [
    " * 1回グループ化した結果は以下の通り"
   ],
   "metadata": {
    "collapsed": false
   },
   "id": "45642b6952c7c18a"
  },
  {
   "cell_type": "code",
   "outputs": [
    {
     "data": {
      "text/plain": "   date_id  stock_id  reference_price_0_0  reference_price_0_1  \\\n0        0         0             0.999664                    0   \n1        0         1             0.999645                    0   \n2        0         2             0.999543                    0   \n3        1         0             0.999050                    0   \n4        1         1             1.000239                    0   \n5        1         2             1.000507                    0   \n6        2         0             0.998940                    0   \n7        2         1             0.996320                    0   \n8        2         2             0.999476                    0   \n\n   reference_price_0_2  reference_price_1_0  reference_price_1_1  \\\n0             0.000435             0.999676                    0   \n1             0.000659             0.999626                    0   \n2             0.000382             0.999528                    0   \n3             0.000391             0.999063                    0   \n4             0.000597             1.000183                    0   \n5             0.000995             1.000517                    0   \n6             0.000498             0.998986                    0   \n7             0.001538             0.996467                    0   \n8             0.000632             0.999405                    0   \n\n   reference_price_1_2  far_price_0_0  far_price_0_1  far_price_0_2  \\\n0             0.000381       0.999692              0       0.000521   \n1             0.000548       0.994105              0       0.004752   \n2             0.000260       0.999773              0       0.000321   \n3             0.000324       1.009668              0       0.006552   \n4             0.000482       1.000608              0       0.000418   \n5             0.000892       1.028259              0       0.015385   \n6             0.000478       0.998583              0       0.000233   \n7             0.001635       0.966981              0       0.020634   \n8             0.000517       0.998969              0       0.000333   \n\n   far_price_1_0  far_price_1_1  far_price_1_2  \n0            NaN              0            NaN  \n1            NaN              0            NaN  \n2            NaN              0            NaN  \n3            NaN              0            NaN  \n4            NaN              0            NaN  \n5            NaN              0            NaN  \n6            NaN              0            NaN  \n7            NaN              0            NaN  \n8            NaN              0            NaN  ",
      "text/html": "<div>\n<style scoped>\n    .dataframe tbody tr th:only-of-type {\n        vertical-align: middle;\n    }\n\n    .dataframe tbody tr th {\n        vertical-align: top;\n    }\n\n    .dataframe thead th {\n        text-align: right;\n    }\n</style>\n<table border=\"1\" class=\"dataframe\">\n  <thead>\n    <tr style=\"text-align: right;\">\n      <th></th>\n      <th>date_id</th>\n      <th>stock_id</th>\n      <th>reference_price_0_0</th>\n      <th>reference_price_0_1</th>\n      <th>reference_price_0_2</th>\n      <th>reference_price_1_0</th>\n      <th>reference_price_1_1</th>\n      <th>reference_price_1_2</th>\n      <th>far_price_0_0</th>\n      <th>far_price_0_1</th>\n      <th>far_price_0_2</th>\n      <th>far_price_1_0</th>\n      <th>far_price_1_1</th>\n      <th>far_price_1_2</th>\n    </tr>\n  </thead>\n  <tbody>\n    <tr>\n      <th>0</th>\n      <td>0</td>\n      <td>0</td>\n      <td>0.999664</td>\n      <td>0</td>\n      <td>0.000435</td>\n      <td>0.999676</td>\n      <td>0</td>\n      <td>0.000381</td>\n      <td>0.999692</td>\n      <td>0</td>\n      <td>0.000521</td>\n      <td>NaN</td>\n      <td>0</td>\n      <td>NaN</td>\n    </tr>\n    <tr>\n      <th>1</th>\n      <td>0</td>\n      <td>1</td>\n      <td>0.999645</td>\n      <td>0</td>\n      <td>0.000659</td>\n      <td>0.999626</td>\n      <td>0</td>\n      <td>0.000548</td>\n      <td>0.994105</td>\n      <td>0</td>\n      <td>0.004752</td>\n      <td>NaN</td>\n      <td>0</td>\n      <td>NaN</td>\n    </tr>\n    <tr>\n      <th>2</th>\n      <td>0</td>\n      <td>2</td>\n      <td>0.999543</td>\n      <td>0</td>\n      <td>0.000382</td>\n      <td>0.999528</td>\n      <td>0</td>\n      <td>0.000260</td>\n      <td>0.999773</td>\n      <td>0</td>\n      <td>0.000321</td>\n      <td>NaN</td>\n      <td>0</td>\n      <td>NaN</td>\n    </tr>\n    <tr>\n      <th>3</th>\n      <td>1</td>\n      <td>0</td>\n      <td>0.999050</td>\n      <td>0</td>\n      <td>0.000391</td>\n      <td>0.999063</td>\n      <td>0</td>\n      <td>0.000324</td>\n      <td>1.009668</td>\n      <td>0</td>\n      <td>0.006552</td>\n      <td>NaN</td>\n      <td>0</td>\n      <td>NaN</td>\n    </tr>\n    <tr>\n      <th>4</th>\n      <td>1</td>\n      <td>1</td>\n      <td>1.000239</td>\n      <td>0</td>\n      <td>0.000597</td>\n      <td>1.000183</td>\n      <td>0</td>\n      <td>0.000482</td>\n      <td>1.000608</td>\n      <td>0</td>\n      <td>0.000418</td>\n      <td>NaN</td>\n      <td>0</td>\n      <td>NaN</td>\n    </tr>\n    <tr>\n      <th>5</th>\n      <td>1</td>\n      <td>2</td>\n      <td>1.000507</td>\n      <td>0</td>\n      <td>0.000995</td>\n      <td>1.000517</td>\n      <td>0</td>\n      <td>0.000892</td>\n      <td>1.028259</td>\n      <td>0</td>\n      <td>0.015385</td>\n      <td>NaN</td>\n      <td>0</td>\n      <td>NaN</td>\n    </tr>\n    <tr>\n      <th>6</th>\n      <td>2</td>\n      <td>0</td>\n      <td>0.998940</td>\n      <td>0</td>\n      <td>0.000498</td>\n      <td>0.998986</td>\n      <td>0</td>\n      <td>0.000478</td>\n      <td>0.998583</td>\n      <td>0</td>\n      <td>0.000233</td>\n      <td>NaN</td>\n      <td>0</td>\n      <td>NaN</td>\n    </tr>\n    <tr>\n      <th>7</th>\n      <td>2</td>\n      <td>1</td>\n      <td>0.996320</td>\n      <td>0</td>\n      <td>0.001538</td>\n      <td>0.996467</td>\n      <td>0</td>\n      <td>0.001635</td>\n      <td>0.966981</td>\n      <td>0</td>\n      <td>0.020634</td>\n      <td>NaN</td>\n      <td>0</td>\n      <td>NaN</td>\n    </tr>\n    <tr>\n      <th>8</th>\n      <td>2</td>\n      <td>2</td>\n      <td>0.999476</td>\n      <td>0</td>\n      <td>0.000632</td>\n      <td>0.999405</td>\n      <td>0</td>\n      <td>0.000517</td>\n      <td>0.998969</td>\n      <td>0</td>\n      <td>0.000333</td>\n      <td>NaN</td>\n      <td>0</td>\n      <td>NaN</td>\n    </tr>\n  </tbody>\n</table>\n</div>"
     },
     "execution_count": 34,
     "metadata": {},
     "output_type": "execute_result"
    }
   ],
   "source": [
    "gcop.get_output_df(2, use_func_order=True)"
   ],
   "metadata": {
    "collapsed": false,
    "ExecuteTime": {
     "end_time": "2023-12-27T23:47:34.209462500Z",
     "start_time": "2023-12-27T23:47:34.144907500Z"
    }
   },
   "id": "c9ca368994a4c57b",
   "execution_count": 34
  },
  {
   "cell_type": "markdown",
   "source": [
    " * use_func_order=True, Falseそれぞれで実行。両者の列名を比較"
   ],
   "metadata": {
    "collapsed": false
   },
   "id": "c15a0b29b7ef18cc"
  },
  {
   "cell_type": "code",
   "outputs": [
    {
     "name": "stdout",
     "output_type": "stream",
     "text": [
      "--------------use_func_order=True---------------\n",
      "Index(['date_id', 'stock_id', 'reference_price_0_0', 'reference_price_0_1',\n",
      "       'reference_price_0_2', 'reference_price_1_0', 'reference_price_1_1',\n",
      "       'reference_price_1_2', 'far_price_0_0', 'far_price_0_1',\n",
      "       'far_price_0_2', 'far_price_1_0', 'far_price_1_1', 'far_price_1_2'],\n",
      "      dtype='object')\n",
      "--------------use_func_order=True---------------\n",
      "Index(['date_id', 'stock_id', 'reference_price_ewm1_mean',\n",
      "       'reference_price_ewm1_zero', 'reference_price_ewm1_std',\n",
      "       'reference_price_ewm5_mean', 'reference_price_ewm5_zero',\n",
      "       'reference_price_ewm5_std', 'far_price_ewm1_mean',\n",
      "       'far_price_ewm1_zero', 'far_price_ewm1_std', 'far_price_ewm5_mean',\n",
      "       'far_price_ewm5_zero', 'far_price_ewm5_std'],\n",
      "      dtype='object')\n"
     ]
    }
   ],
   "source": [
    "print(\"--------------use_func_order=True---------------\")\n",
    "print(gcop.get_output_df(2, use_func_order=True).columns)\n",
    "print(\"--------------use_func_order=True---------------\")\n",
    "print(gcop.get_output_df(2, use_func_order=False).columns)"
   ],
   "metadata": {
    "collapsed": false,
    "ExecuteTime": {
     "end_time": "2023-12-27T23:47:34.209967600Z",
     "start_time": "2023-12-27T23:47:34.176433200Z"
    }
   },
   "id": "1714be8d889644c",
   "execution_count": 35
  },
  {
   "cell_type": "markdown",
   "source": [
    "### get_log"
   ],
   "metadata": {
    "collapsed": false
   },
   "id": "81cde857ed5cfbc1"
  },
  {
   "cell_type": "markdown",
   "source": [
    "  * グループごとのデータ生成の記録は以下の通り。"
   ],
   "metadata": {
    "collapsed": false
   },
   "id": "29201b16065023d2"
  },
  {
   "cell_type": "code",
   "outputs": [
    {
     "data": {
      "text/plain": "['sub_train_0', 'transform_di-si_1', 'agg_di-si_max|zero|std_2']"
     },
     "execution_count": 36,
     "metadata": {},
     "output_type": "execute_result"
    }
   ],
   "source": [
    "gcop.get_log()\n"
   ],
   "metadata": {
    "collapsed": false,
    "ExecuteTime": {
     "end_time": "2023-12-27T23:47:34.313588100Z",
     "start_time": "2023-12-27T23:47:34.190956300Z"
    }
   },
   "id": "8fcf4d1edf1e9a19",
   "execution_count": 36
  },
  {
   "cell_type": "markdown",
   "source": [
    "### merge_all_level_df"
   ],
   "metadata": {
    "collapsed": false
   },
   "id": "276359f00704983c"
  },
  {
   "cell_type": "markdown",
   "source": [
    " * use_func_order=True, Falseそれぞれで実行。両者の列名を比較"
   ],
   "metadata": {
    "collapsed": false
   },
   "id": "d79ec265e719f58d"
  },
  {
   "cell_type": "code",
   "outputs": [
    {
     "name": "stdout",
     "output_type": "stream",
     "text": [
      "--------------use_func_order=True---------------\n",
      "['stock_id', 'date_id', 'seconds_in_bucket', 'imbalance_size', 'imbalance_buy_sell_flag', 'reference_price', 'matched_size', 'far_price', 'near_price', 'bid_price', 'bid_size', 'ask_price', 'ask_size', 'wap', 'target', 'time_id', 'row_id', 'reference_price_0', 'reference_price_1', 'far_price_0', 'far_price_1', 'reference_price_0_0', 'reference_price_0_1', 'reference_price_0_2', 'reference_price_1_0', 'reference_price_1_1', 'reference_price_1_2', 'far_price_0_0', 'far_price_0_1', 'far_price_0_2', 'far_price_1_0', 'far_price_1_1', 'far_price_1_2']\n",
      "--------------use_func_order=False---------------\n",
      "['stock_id', 'date_id', 'seconds_in_bucket', 'imbalance_size', 'imbalance_buy_sell_flag', 'reference_price', 'matched_size', 'far_price', 'near_price', 'bid_price', 'bid_size', 'ask_price', 'ask_size', 'wap', 'target', 'time_id', 'row_id', 'reference_price_ewm1', 'reference_price_ewm5', 'far_price_ewm1', 'far_price_ewm5', 'reference_price_ewm1_mean', 'reference_price_ewm1_zero', 'reference_price_ewm1_std', 'reference_price_ewm5_mean', 'reference_price_ewm5_zero', 'reference_price_ewm5_std', 'far_price_ewm1_mean', 'far_price_ewm1_zero', 'far_price_ewm1_std', 'far_price_ewm5_mean', 'far_price_ewm5_zero', 'far_price_ewm5_std']\n"
     ]
    }
   ],
   "source": [
    "print(\"--------------use_func_order=True---------------\")\n",
    "print(gcop.merge_all_level_df(use_func_order=True).columns.tolist())\n",
    "print(\"--------------use_func_order=False---------------\")\n",
    "print(gcop.merge_all_level_df(use_func_order=False).columns.tolist())"
   ],
   "metadata": {
    "collapsed": false,
    "ExecuteTime": {
     "end_time": "2023-12-27T23:47:34.317587900Z",
     "start_time": "2023-12-27T23:47:34.207462500Z"
    }
   },
   "id": "c3e66dbae4829cd7",
   "execution_count": 37
  },
  {
   "cell_type": "markdown",
   "source": [
    " * level=2での出力結果。use_func_order=Trueの場合は、各levelで適用した関数はfunc_dictのindexに対応\n",
    "  *  use_func_order=Trueの場合、各levelで適用した関数はfunc_dictのindexに対応したものが"
   ],
   "metadata": {
    "collapsed": false
   },
   "id": "13c0879c5a1e2f13"
  },
  {
   "cell_type": "code",
   "outputs": [],
   "source": [],
   "metadata": {
    "collapsed": false,
    "ExecuteTime": {
     "end_time": "2023-12-27T23:47:34.343117500Z",
     "start_time": "2023-12-27T23:47:34.256008300Z"
    }
   },
   "id": "e9e54bb8ec71c0f5",
   "execution_count": 37
  },
  {
   "cell_type": "markdown",
   "source": [
    "## apply2_agg->agg"
   ],
   "metadata": {
    "collapsed": false
   },
   "id": "6b4fd303294fa61"
  },
  {
   "cell_type": "markdown",
   "source": [
    "* 適用するフローの例は以下の通り\n",
    "    * 1.\"stock_id\", \"date_id\"をグループ化して、reference_price < far_priceとなる数をカウント。(apply2_agg)\n",
    "    * 2.\"date_id\"をグループ化して、1で計算した合計を計算。(agg)b"
   ],
   "metadata": {
    "collapsed": false
   },
   "id": "7c98af71f4d847c4"
  },
  {
   "cell_type": "markdown",
   "source": [
    "### 実行"
   ],
   "metadata": {
    "collapsed": false
   },
   "id": "8a7b1873214c6bdd"
  },
  {
   "cell_type": "code",
   "outputs": [
    {
     "data": {
      "text/plain": "<gbychain.code.groupby_chain_operator.GroupbyChainOperator at 0x27599b217b0>"
     },
     "execution_count": 38,
     "metadata": {},
     "output_type": "execute_result"
    }
   ],
   "source": [
    "import itertools \n",
    "def temp(group, col1, col2) :\n",
    "    return  (group[col1] < group[col2]).sum()\n",
    "\n",
    "tgt_names_func_list = [(\"reference_price\", \"far_price\", temp)] \n",
    "\n",
    "gcop = GroupbyChainOperator(sub_train, \"sub_train\")\n",
    "(\n",
    "    gcop.update_by_apply2_agg([\"date_id\", \"stock_id\"], [\"seconds_in_bucket\"], tgt_names_func_list)\n",
    "     .update_by_agg([\"date_id\"], [\"\"], func_dict = {\"sum\":\"sum\"})\n",
    ")\n",
    "\n",
    "\n"
   ],
   "metadata": {
    "collapsed": false,
    "ExecuteTime": {
     "end_time": "2023-12-27T23:47:34.359130Z",
     "start_time": "2023-12-27T23:47:34.277024300Z"
    }
   },
   "id": "7e08a24b2d37b9e3",
   "execution_count": 38
  },
  {
   "cell_type": "markdown",
   "source": [
    "### get_output_df"
   ],
   "metadata": {
    "collapsed": false
   },
   "id": "477c794145faa24d"
  },
  {
   "cell_type": "markdown",
   "source": [
    " * 2回グループ化した結果は以下の通り"
   ],
   "metadata": {
    "collapsed": false
   },
   "id": "e8dc706d6d1f78a3"
  },
  {
   "cell_type": "code",
   "outputs": [
    {
     "data": {
      "text/plain": "   date_id  reference_price-far_price_temp_sum\n0        0                                   9\n1        1                                  50\n2        2                                   0",
      "text/html": "<div>\n<style scoped>\n    .dataframe tbody tr th:only-of-type {\n        vertical-align: middle;\n    }\n\n    .dataframe tbody tr th {\n        vertical-align: top;\n    }\n\n    .dataframe thead th {\n        text-align: right;\n    }\n</style>\n<table border=\"1\" class=\"dataframe\">\n  <thead>\n    <tr style=\"text-align: right;\">\n      <th></th>\n      <th>date_id</th>\n      <th>reference_price-far_price_temp_sum</th>\n    </tr>\n  </thead>\n  <tbody>\n    <tr>\n      <th>0</th>\n      <td>0</td>\n      <td>9</td>\n    </tr>\n    <tr>\n      <th>1</th>\n      <td>1</td>\n      <td>50</td>\n    </tr>\n    <tr>\n      <th>2</th>\n      <td>2</td>\n      <td>0</td>\n    </tr>\n  </tbody>\n</table>\n</div>"
     },
     "execution_count": 39,
     "metadata": {},
     "output_type": "execute_result"
    }
   ],
   "source": [
    "gcop.get_output_df(2, use_func_order=False)"
   ],
   "metadata": {
    "collapsed": false,
    "ExecuteTime": {
     "end_time": "2023-12-27T23:47:34.412678700Z",
     "start_time": "2023-12-27T23:47:34.287055800Z"
    }
   },
   "id": "3dd2e6ce639c0176",
   "execution_count": 39
  },
  {
   "cell_type": "markdown",
   "source": [
    " * 1回グループ化した結果は以下の通り"
   ],
   "metadata": {
    "collapsed": false
   },
   "id": "51713454391dde9e"
  },
  {
   "cell_type": "code",
   "outputs": [
    {
     "data": {
      "text/plain": "   date_id  reference_price-far_price_0_0\n0        0                              9\n1        1                             50\n2        2                              0",
      "text/html": "<div>\n<style scoped>\n    .dataframe tbody tr th:only-of-type {\n        vertical-align: middle;\n    }\n\n    .dataframe tbody tr th {\n        vertical-align: top;\n    }\n\n    .dataframe thead th {\n        text-align: right;\n    }\n</style>\n<table border=\"1\" class=\"dataframe\">\n  <thead>\n    <tr style=\"text-align: right;\">\n      <th></th>\n      <th>date_id</th>\n      <th>reference_price-far_price_0_0</th>\n    </tr>\n  </thead>\n  <tbody>\n    <tr>\n      <th>0</th>\n      <td>0</td>\n      <td>9</td>\n    </tr>\n    <tr>\n      <th>1</th>\n      <td>1</td>\n      <td>50</td>\n    </tr>\n    <tr>\n      <th>2</th>\n      <td>2</td>\n      <td>0</td>\n    </tr>\n  </tbody>\n</table>\n</div>"
     },
     "execution_count": 40,
     "metadata": {},
     "output_type": "execute_result"
    }
   ],
   "source": [
    "gcop.get_output_df(2, use_func_order=True)"
   ],
   "metadata": {
    "collapsed": false,
    "ExecuteTime": {
     "end_time": "2023-12-27T23:47:34.415678900Z",
     "start_time": "2023-12-27T23:47:34.306074800Z"
    }
   },
   "id": "ac2f86c522fca8b8",
   "execution_count": 40
  },
  {
   "cell_type": "markdown",
   "source": [
    " * use_func_order=True, Falseそれぞれで実行。両者の列名を比較"
   ],
   "metadata": {
    "collapsed": false
   },
   "id": "3dece9bd5690b834"
  },
  {
   "cell_type": "code",
   "outputs": [
    {
     "name": "stdout",
     "output_type": "stream",
     "text": [
      "--------------use_func_order=True---------------\n",
      "Index(['date_id', 'reference_price-far_price_0_0'], dtype='object')\n",
      "--------------use_func_order=True---------------\n",
      "Index(['date_id', 'reference_price-far_price_temp_sum'], dtype='object')\n"
     ]
    }
   ],
   "source": [
    "print(\"--------------use_func_order=True---------------\")\n",
    "print(gcop.get_output_df(2, use_func_order=True).columns)\n",
    "print(\"--------------use_func_order=True---------------\")\n",
    "print(gcop.get_output_df(2, use_func_order=False).columns)"
   ],
   "metadata": {
    "collapsed": false,
    "ExecuteTime": {
     "end_time": "2023-12-27T23:47:34.430695300Z",
     "start_time": "2023-12-27T23:47:34.319091400Z"
    }
   },
   "id": "ff252835df658ea0",
   "execution_count": 41
  },
  {
   "cell_type": "markdown",
   "source": [
    "### get_log"
   ],
   "metadata": {
    "collapsed": false
   },
   "id": "7304346a6943e733"
  },
  {
   "cell_type": "markdown",
   "source": [
    "  * グループごとのデータ生成の記録は以下の通り。"
   ],
   "metadata": {
    "collapsed": false
   },
   "id": "f05f7b25bf4965a7"
  },
  {
   "cell_type": "code",
   "outputs": [
    {
     "data": {
      "text/plain": "['sub_train_0', 'apply2-agg_di-si_1', 'agg_di_2']"
     },
     "execution_count": 42,
     "metadata": {},
     "output_type": "execute_result"
    }
   ],
   "source": [
    "gcop.get_log()\n"
   ],
   "metadata": {
    "collapsed": false,
    "ExecuteTime": {
     "end_time": "2023-12-27T23:47:34.448203500Z",
     "start_time": "2023-12-27T23:47:34.335607400Z"
    }
   },
   "id": "2c729ebb5e2d7010",
   "execution_count": 42
  },
  {
   "cell_type": "markdown",
   "source": [
    "### merge_all_level_df"
   ],
   "metadata": {
    "collapsed": false
   },
   "id": "4eea46896ac6cb9c"
  },
  {
   "cell_type": "markdown",
   "source": [
    " * use_func_order=True, Falseそれぞれで実行。両者の列名を比較"
   ],
   "metadata": {
    "collapsed": false
   },
   "id": "b1068fb9cdc63b1d"
  },
  {
   "cell_type": "code",
   "outputs": [
    {
     "name": "stdout",
     "output_type": "stream",
     "text": [
      "--------------use_func_order=True---------------\n",
      "['stock_id', 'date_id', 'seconds_in_bucket', 'imbalance_size', 'imbalance_buy_sell_flag', 'reference_price', 'matched_size', 'far_price', 'near_price', 'bid_price', 'bid_size', 'ask_price', 'ask_size', 'wap', 'target', 'time_id', 'row_id', 'reference_price-far_price_0', 'reference_price-far_price_0_0']\n",
      "--------------use_func_order=False---------------\n",
      "['stock_id', 'date_id', 'seconds_in_bucket', 'imbalance_size', 'imbalance_buy_sell_flag', 'reference_price', 'matched_size', 'far_price', 'near_price', 'bid_price', 'bid_size', 'ask_price', 'ask_size', 'wap', 'target', 'time_id', 'row_id', 'reference_price-far_price_temp', 'reference_price-far_price_temp_sum']\n"
     ]
    }
   ],
   "source": [
    "print(\"--------------use_func_order=True---------------\")\n",
    "print(gcop.merge_all_level_df(use_func_order=True).columns.tolist())\n",
    "print(\"--------------use_func_order=False---------------\")\n",
    "print(gcop.merge_all_level_df(use_func_order=False).columns.tolist())"
   ],
   "metadata": {
    "collapsed": false,
    "ExecuteTime": {
     "end_time": "2023-12-27T23:47:34.533781900Z",
     "start_time": "2023-12-27T23:47:34.421185900Z"
    }
   },
   "id": "11466da76394db43",
   "execution_count": 43
  },
  {
   "cell_type": "markdown",
   "source": [
    "## 他のデータについて"
   ],
   "metadata": {
    "collapsed": false
   },
   "id": "591344da83c8ea9c"
  },
  {
   "cell_type": "markdown",
   "source": [
    " * 以下はtitatnicのデータに対して適用した結果"
   ],
   "metadata": {
    "collapsed": false
   },
   "id": "cdb759a134eb0703"
  },
  {
   "cell_type": "code",
   "outputs": [
    {
     "data": {
      "text/plain": "<gbychain.code.groupby_chain_operator.GroupbyChainOperator at 0x2759800bd30>"
     },
     "execution_count": 44,
     "metadata": {},
     "output_type": "execute_result"
    }
   ],
   "source": [
    "titanic_df = sns.load_dataset(\"titanic\")\n",
    "groups = [\"embarked\", \"sex\"]\n",
    "indices = [\"age\"]\n",
    "tgt_columns= [\"fare\",\"sibsp\"]\n",
    "\n",
    "input_df = titanic_df.sort_values(indices)\n",
    "groups2 = [\"sex\"]\n",
    "indices2 = [\"\"]\n",
    "\n",
    "\n",
    "func_dict= {\"max\":\"max\", \"min\":\"min\"}\n",
    "\n",
    "gcop = GroupbyChainOperator(input_df, \"titanic\")\n",
    "(\n",
    "\n",
    "    gcop.update_by_agg( groups, indices, tgt_columns, func_dict, funcs_name=\"max|min\")\n",
    "    .update_by_agg(groups2, indices2, output_name=\"test\")\n",
    ")"
   ],
   "metadata": {
    "collapsed": false,
    "ExecuteTime": {
     "end_time": "2023-12-27T23:47:34.565309700Z",
     "start_time": "2023-12-27T23:47:34.471730300Z"
    }
   },
   "id": "21f6a399eaacc17",
   "execution_count": 44
  },
  {
   "cell_type": "code",
   "outputs": [
    {
     "data": {
      "text/plain": "['titanic_0', 'agg_e-s_max|min_1', 'test_2']"
     },
     "execution_count": 45,
     "metadata": {},
     "output_type": "execute_result"
    }
   ],
   "source": [
    "gcop.get_log()"
   ],
   "metadata": {
    "collapsed": false,
    "ExecuteTime": {
     "end_time": "2023-12-27T23:47:34.631872900Z",
     "start_time": "2023-12-27T23:47:34.559304800Z"
    }
   },
   "id": "98b465d22f5a68cb",
   "execution_count": 45
  },
  {
   "cell_type": "code",
   "outputs": [
    {
     "data": {
      "text/plain": "  embarked     sex  fare_max  fare_min  sibsp_max  sibsp_min\n0        C  female  512.3292    7.2250          2          0\n1        C    male  512.3292    4.0125          2          0\n2        Q  female   90.0000    6.7500          2          0\n3        Q    male   90.0000    6.7500          4          0\n4        S  female  263.0000    7.2500          8          0\n5        S    male  263.0000    0.0000          8          0",
      "text/html": "<div>\n<style scoped>\n    .dataframe tbody tr th:only-of-type {\n        vertical-align: middle;\n    }\n\n    .dataframe tbody tr th {\n        vertical-align: top;\n    }\n\n    .dataframe thead th {\n        text-align: right;\n    }\n</style>\n<table border=\"1\" class=\"dataframe\">\n  <thead>\n    <tr style=\"text-align: right;\">\n      <th></th>\n      <th>embarked</th>\n      <th>sex</th>\n      <th>fare_max</th>\n      <th>fare_min</th>\n      <th>sibsp_max</th>\n      <th>sibsp_min</th>\n    </tr>\n  </thead>\n  <tbody>\n    <tr>\n      <th>0</th>\n      <td>C</td>\n      <td>female</td>\n      <td>512.3292</td>\n      <td>7.2250</td>\n      <td>2</td>\n      <td>0</td>\n    </tr>\n    <tr>\n      <th>1</th>\n      <td>C</td>\n      <td>male</td>\n      <td>512.3292</td>\n      <td>4.0125</td>\n      <td>2</td>\n      <td>0</td>\n    </tr>\n    <tr>\n      <th>2</th>\n      <td>Q</td>\n      <td>female</td>\n      <td>90.0000</td>\n      <td>6.7500</td>\n      <td>2</td>\n      <td>0</td>\n    </tr>\n    <tr>\n      <th>3</th>\n      <td>Q</td>\n      <td>male</td>\n      <td>90.0000</td>\n      <td>6.7500</td>\n      <td>4</td>\n      <td>0</td>\n    </tr>\n    <tr>\n      <th>4</th>\n      <td>S</td>\n      <td>female</td>\n      <td>263.0000</td>\n      <td>7.2500</td>\n      <td>8</td>\n      <td>0</td>\n    </tr>\n    <tr>\n      <th>5</th>\n      <td>S</td>\n      <td>male</td>\n      <td>263.0000</td>\n      <td>0.0000</td>\n      <td>8</td>\n      <td>0</td>\n    </tr>\n  </tbody>\n</table>\n</div>"
     },
     "execution_count": 46,
     "metadata": {},
     "output_type": "execute_result"
    }
   ],
   "source": [
    "gcop.get_output_df(1, False)"
   ],
   "metadata": {
    "collapsed": false,
    "ExecuteTime": {
     "end_time": "2023-12-27T23:47:34.668400900Z",
     "start_time": "2023-12-27T23:47:34.610856100Z"
    }
   },
   "id": "6e8f935a4bd0d911",
   "execution_count": 46
  },
  {
   "cell_type": "code",
   "outputs": [
    {
     "data": {
      "text/plain": "      sex  fare_max_max  fare_max_min  fare_min_max  fare_min_min  \\\n0  female      512.3292          90.0          7.25          6.75   \n1    male      512.3292          90.0          6.75          0.00   \n\n   sibsp_max_max  sibsp_max_min  sibsp_min_max  sibsp_min_min  \n0              8              2              0              0  \n1              8              2              0              0  ",
      "text/html": "<div>\n<style scoped>\n    .dataframe tbody tr th:only-of-type {\n        vertical-align: middle;\n    }\n\n    .dataframe tbody tr th {\n        vertical-align: top;\n    }\n\n    .dataframe thead th {\n        text-align: right;\n    }\n</style>\n<table border=\"1\" class=\"dataframe\">\n  <thead>\n    <tr style=\"text-align: right;\">\n      <th></th>\n      <th>sex</th>\n      <th>fare_max_max</th>\n      <th>fare_max_min</th>\n      <th>fare_min_max</th>\n      <th>fare_min_min</th>\n      <th>sibsp_max_max</th>\n      <th>sibsp_max_min</th>\n      <th>sibsp_min_max</th>\n      <th>sibsp_min_min</th>\n    </tr>\n  </thead>\n  <tbody>\n    <tr>\n      <th>0</th>\n      <td>female</td>\n      <td>512.3292</td>\n      <td>90.0</td>\n      <td>7.25</td>\n      <td>6.75</td>\n      <td>8</td>\n      <td>2</td>\n      <td>0</td>\n      <td>0</td>\n    </tr>\n    <tr>\n      <th>1</th>\n      <td>male</td>\n      <td>512.3292</td>\n      <td>90.0</td>\n      <td>6.75</td>\n      <td>0.00</td>\n      <td>8</td>\n      <td>2</td>\n      <td>0</td>\n      <td>0</td>\n    </tr>\n  </tbody>\n</table>\n</div>"
     },
     "execution_count": 47,
     "metadata": {},
     "output_type": "execute_result"
    }
   ],
   "source": [
    "gcop.get_output_df(2, False)"
   ],
   "metadata": {
    "collapsed": false,
    "ExecuteTime": {
     "end_time": "2023-12-27T23:47:34.711946300Z",
     "start_time": "2023-12-27T23:47:34.663401600Z"
    }
   },
   "id": "87d83b8fb72d48f1",
   "execution_count": 47
  },
  {
   "cell_type": "markdown",
   "source": [
    "# テスト"
   ],
   "metadata": {
    "collapsed": false
   },
   "id": "9f1551e97f0cb614"
  },
  {
   "cell_type": "code",
   "outputs": [
    {
     "data": {
      "text/plain": "  group1 group2   v1  v2\n0      A      a    0  29\n1      A      a    1  28\n2      A      a    2  27\n3      A      b    3  26\n4      A      b    4  25\n5      A      b    5  24\n6      B      b    6  23\n7      B      c    7  22\n8      B      c    8  21\n9      B      c  100  20",
      "text/html": "<div>\n<style scoped>\n    .dataframe tbody tr th:only-of-type {\n        vertical-align: middle;\n    }\n\n    .dataframe tbody tr th {\n        vertical-align: top;\n    }\n\n    .dataframe thead th {\n        text-align: right;\n    }\n</style>\n<table border=\"1\" class=\"dataframe\">\n  <thead>\n    <tr style=\"text-align: right;\">\n      <th></th>\n      <th>group1</th>\n      <th>group2</th>\n      <th>v1</th>\n      <th>v2</th>\n    </tr>\n  </thead>\n  <tbody>\n    <tr>\n      <th>0</th>\n      <td>A</td>\n      <td>a</td>\n      <td>0</td>\n      <td>29</td>\n    </tr>\n    <tr>\n      <th>1</th>\n      <td>A</td>\n      <td>a</td>\n      <td>1</td>\n      <td>28</td>\n    </tr>\n    <tr>\n      <th>2</th>\n      <td>A</td>\n      <td>a</td>\n      <td>2</td>\n      <td>27</td>\n    </tr>\n    <tr>\n      <th>3</th>\n      <td>A</td>\n      <td>b</td>\n      <td>3</td>\n      <td>26</td>\n    </tr>\n    <tr>\n      <th>4</th>\n      <td>A</td>\n      <td>b</td>\n      <td>4</td>\n      <td>25</td>\n    </tr>\n    <tr>\n      <th>5</th>\n      <td>A</td>\n      <td>b</td>\n      <td>5</td>\n      <td>24</td>\n    </tr>\n    <tr>\n      <th>6</th>\n      <td>B</td>\n      <td>b</td>\n      <td>6</td>\n      <td>23</td>\n    </tr>\n    <tr>\n      <th>7</th>\n      <td>B</td>\n      <td>c</td>\n      <td>7</td>\n      <td>22</td>\n    </tr>\n    <tr>\n      <th>8</th>\n      <td>B</td>\n      <td>c</td>\n      <td>8</td>\n      <td>21</td>\n    </tr>\n    <tr>\n      <th>9</th>\n      <td>B</td>\n      <td>c</td>\n      <td>100</td>\n      <td>20</td>\n    </tr>\n  </tbody>\n</table>\n</div>"
     },
     "execution_count": 48,
     "metadata": {},
     "output_type": "execute_result"
    }
   ],
   "source": [
    "import pandas as pd\n",
    "df = pd.DataFrame(\n",
    "    {\n",
    "        \"group1\":[\"A\"] * 6 + [\"B\"] * 4 ,\n",
    "        \"group2\":[\"a\"] * 3 + [\"b\"] * 4 + [\"c\"] * 3,\n",
    "        \"v1\":[0,1,2,3,4,5,6,7,8,100],\n",
    "        \"v2\":np.arange(20,30)[::-1]\n",
    "        \n",
    "    }\n",
    ")\n",
    "df"
   ],
   "metadata": {
    "collapsed": false,
    "ExecuteTime": {
     "end_time": "2023-12-27T23:47:34.744475400Z",
     "start_time": "2023-12-27T23:47:34.702436900Z"
    }
   },
   "id": "bad65b19af26d967",
   "execution_count": 48
  },
  {
   "cell_type": "markdown",
   "source": [
    "## agg"
   ],
   "metadata": {
    "collapsed": false
   },
   "id": "c5778095d0232be0"
  },
  {
   "cell_type": "code",
   "outputs": [
    {
     "data": {
      "text/plain": "<gbychain.code.groupby_chain_operator.GroupbyChainOperator at 0x275a0149300>"
     },
     "execution_count": 49,
     "metadata": {},
     "output_type": "execute_result"
    }
   ],
   "source": [
    "func_dict = {\"max\":\"max\", \"min\":\"min\"}\n",
    "func_dict2 = {\"sum\":\"sum\"}\n",
    "gcop = GroupbyChainOperator(df)\n",
    "(gcop.update_by_agg([\"group1\", \"group2\"],  tgt_names=[\"v1\"], func_dict=func_dict)\n",
    " .update_by_agg([\"group1\"], func_dict=func_dict2))"
   ],
   "metadata": {
    "collapsed": false,
    "ExecuteTime": {
     "end_time": "2023-12-27T23:47:34.793030800Z",
     "start_time": "2023-12-27T23:47:34.720455Z"
    }
   },
   "id": "dada854fffc8fb77",
   "execution_count": 49
  },
  {
   "cell_type": "code",
   "outputs": [
    {
     "data": {
      "text/plain": "  group1 group2   v1  v2\n0      A      a    0  29\n1      A      a    1  28\n2      A      a    2  27\n3      A      b    3  26\n4      A      b    4  25\n5      A      b    5  24\n6      B      b    6  23\n7      B      c    7  22\n8      B      c    8  21\n9      B      c  100  20",
      "text/html": "<div>\n<style scoped>\n    .dataframe tbody tr th:only-of-type {\n        vertical-align: middle;\n    }\n\n    .dataframe tbody tr th {\n        vertical-align: top;\n    }\n\n    .dataframe thead th {\n        text-align: right;\n    }\n</style>\n<table border=\"1\" class=\"dataframe\">\n  <thead>\n    <tr style=\"text-align: right;\">\n      <th></th>\n      <th>group1</th>\n      <th>group2</th>\n      <th>v1</th>\n      <th>v2</th>\n    </tr>\n  </thead>\n  <tbody>\n    <tr>\n      <th>0</th>\n      <td>A</td>\n      <td>a</td>\n      <td>0</td>\n      <td>29</td>\n    </tr>\n    <tr>\n      <th>1</th>\n      <td>A</td>\n      <td>a</td>\n      <td>1</td>\n      <td>28</td>\n    </tr>\n    <tr>\n      <th>2</th>\n      <td>A</td>\n      <td>a</td>\n      <td>2</td>\n      <td>27</td>\n    </tr>\n    <tr>\n      <th>3</th>\n      <td>A</td>\n      <td>b</td>\n      <td>3</td>\n      <td>26</td>\n    </tr>\n    <tr>\n      <th>4</th>\n      <td>A</td>\n      <td>b</td>\n      <td>4</td>\n      <td>25</td>\n    </tr>\n    <tr>\n      <th>5</th>\n      <td>A</td>\n      <td>b</td>\n      <td>5</td>\n      <td>24</td>\n    </tr>\n    <tr>\n      <th>6</th>\n      <td>B</td>\n      <td>b</td>\n      <td>6</td>\n      <td>23</td>\n    </tr>\n    <tr>\n      <th>7</th>\n      <td>B</td>\n      <td>c</td>\n      <td>7</td>\n      <td>22</td>\n    </tr>\n    <tr>\n      <th>8</th>\n      <td>B</td>\n      <td>c</td>\n      <td>8</td>\n      <td>21</td>\n    </tr>\n    <tr>\n      <th>9</th>\n      <td>B</td>\n      <td>c</td>\n      <td>100</td>\n      <td>20</td>\n    </tr>\n  </tbody>\n</table>\n</div>"
     },
     "execution_count": 50,
     "metadata": {},
     "output_type": "execute_result"
    }
   ],
   "source": [
    "gcop.get_output_df(0, False)"
   ],
   "metadata": {
    "collapsed": false,
    "ExecuteTime": {
     "end_time": "2023-12-27T23:47:34.832071700Z",
     "start_time": "2023-12-27T23:47:34.765494200Z"
    }
   },
   "id": "1f5d9fa21deaef80",
   "execution_count": 50
  },
  {
   "cell_type": "code",
   "outputs": [
    {
     "data": {
      "text/plain": "  group1 group2  v1_max  v1_min\n0      A      a       2       0\n1      A      b       5       3\n2      B      b       6       6\n3      B      c     100       7",
      "text/html": "<div>\n<style scoped>\n    .dataframe tbody tr th:only-of-type {\n        vertical-align: middle;\n    }\n\n    .dataframe tbody tr th {\n        vertical-align: top;\n    }\n\n    .dataframe thead th {\n        text-align: right;\n    }\n</style>\n<table border=\"1\" class=\"dataframe\">\n  <thead>\n    <tr style=\"text-align: right;\">\n      <th></th>\n      <th>group1</th>\n      <th>group2</th>\n      <th>v1_max</th>\n      <th>v1_min</th>\n    </tr>\n  </thead>\n  <tbody>\n    <tr>\n      <th>0</th>\n      <td>A</td>\n      <td>a</td>\n      <td>2</td>\n      <td>0</td>\n    </tr>\n    <tr>\n      <th>1</th>\n      <td>A</td>\n      <td>b</td>\n      <td>5</td>\n      <td>3</td>\n    </tr>\n    <tr>\n      <th>2</th>\n      <td>B</td>\n      <td>b</td>\n      <td>6</td>\n      <td>6</td>\n    </tr>\n    <tr>\n      <th>3</th>\n      <td>B</td>\n      <td>c</td>\n      <td>100</td>\n      <td>7</td>\n    </tr>\n  </tbody>\n</table>\n</div>"
     },
     "execution_count": 51,
     "metadata": {},
     "output_type": "execute_result"
    }
   ],
   "source": [
    "gcop.get_output_df(1, False)"
   ],
   "metadata": {
    "collapsed": false,
    "ExecuteTime": {
     "end_time": "2023-12-27T23:47:34.903635700Z",
     "start_time": "2023-12-27T23:47:34.809042800Z"
    }
   },
   "id": "db283f619466cd00",
   "execution_count": 51
  },
  {
   "cell_type": "code",
   "outputs": [
    {
     "data": {
      "text/plain": "  group1 group2   v1  v2  v1_max  v1_min  v1_max_sum  v1_min_sum\n0      A      a    0  29       2       0           7           3\n1      A      a    1  28       2       0           7           3\n2      A      a    2  27       2       0           7           3\n3      A      b    3  26       5       3           7           3\n4      A      b    4  25       5       3           7           3\n5      A      b    5  24       5       3           7           3\n6      B      b    6  23       6       6         106          13\n7      B      c    7  22     100       7         106          13\n8      B      c    8  21     100       7         106          13\n9      B      c  100  20     100       7         106          13",
      "text/html": "<div>\n<style scoped>\n    .dataframe tbody tr th:only-of-type {\n        vertical-align: middle;\n    }\n\n    .dataframe tbody tr th {\n        vertical-align: top;\n    }\n\n    .dataframe thead th {\n        text-align: right;\n    }\n</style>\n<table border=\"1\" class=\"dataframe\">\n  <thead>\n    <tr style=\"text-align: right;\">\n      <th></th>\n      <th>group1</th>\n      <th>group2</th>\n      <th>v1</th>\n      <th>v2</th>\n      <th>v1_max</th>\n      <th>v1_min</th>\n      <th>v1_max_sum</th>\n      <th>v1_min_sum</th>\n    </tr>\n  </thead>\n  <tbody>\n    <tr>\n      <th>0</th>\n      <td>A</td>\n      <td>a</td>\n      <td>0</td>\n      <td>29</td>\n      <td>2</td>\n      <td>0</td>\n      <td>7</td>\n      <td>3</td>\n    </tr>\n    <tr>\n      <th>1</th>\n      <td>A</td>\n      <td>a</td>\n      <td>1</td>\n      <td>28</td>\n      <td>2</td>\n      <td>0</td>\n      <td>7</td>\n      <td>3</td>\n    </tr>\n    <tr>\n      <th>2</th>\n      <td>A</td>\n      <td>a</td>\n      <td>2</td>\n      <td>27</td>\n      <td>2</td>\n      <td>0</td>\n      <td>7</td>\n      <td>3</td>\n    </tr>\n    <tr>\n      <th>3</th>\n      <td>A</td>\n      <td>b</td>\n      <td>3</td>\n      <td>26</td>\n      <td>5</td>\n      <td>3</td>\n      <td>7</td>\n      <td>3</td>\n    </tr>\n    <tr>\n      <th>4</th>\n      <td>A</td>\n      <td>b</td>\n      <td>4</td>\n      <td>25</td>\n      <td>5</td>\n      <td>3</td>\n      <td>7</td>\n      <td>3</td>\n    </tr>\n    <tr>\n      <th>5</th>\n      <td>A</td>\n      <td>b</td>\n      <td>5</td>\n      <td>24</td>\n      <td>5</td>\n      <td>3</td>\n      <td>7</td>\n      <td>3</td>\n    </tr>\n    <tr>\n      <th>6</th>\n      <td>B</td>\n      <td>b</td>\n      <td>6</td>\n      <td>23</td>\n      <td>6</td>\n      <td>6</td>\n      <td>106</td>\n      <td>13</td>\n    </tr>\n    <tr>\n      <th>7</th>\n      <td>B</td>\n      <td>c</td>\n      <td>7</td>\n      <td>22</td>\n      <td>100</td>\n      <td>7</td>\n      <td>106</td>\n      <td>13</td>\n    </tr>\n    <tr>\n      <th>8</th>\n      <td>B</td>\n      <td>c</td>\n      <td>8</td>\n      <td>21</td>\n      <td>100</td>\n      <td>7</td>\n      <td>106</td>\n      <td>13</td>\n    </tr>\n    <tr>\n      <th>9</th>\n      <td>B</td>\n      <td>c</td>\n      <td>100</td>\n      <td>20</td>\n      <td>100</td>\n      <td>7</td>\n      <td>106</td>\n      <td>13</td>\n    </tr>\n  </tbody>\n</table>\n</div>"
     },
     "execution_count": 53,
     "metadata": {},
     "output_type": "execute_result"
    }
   ],
   "source": [
    "gcop.merge_all_level_df(False)"
   ],
   "metadata": {
    "collapsed": false,
    "ExecuteTime": {
     "end_time": "2023-12-27T23:47:35.047765600Z",
     "start_time": "2023-12-27T23:47:34.945673300Z"
    }
   },
   "id": "26d0127d7c06cfd3",
   "execution_count": 53
  },
  {
   "cell_type": "markdown",
   "source": [
    "## apply2_agg"
   ],
   "metadata": {
    "collapsed": false
   },
   "id": "b4a20b1eeea5c901"
  },
  {
   "cell_type": "code",
   "outputs": [
    {
     "data": {
      "text/plain": "  group1 group2  v1-v2_lessthan\n0      A      a               0\n1      A      b               0\n2      B      b               0\n3      B      c               1",
      "text/html": "<div>\n<style scoped>\n    .dataframe tbody tr th:only-of-type {\n        vertical-align: middle;\n    }\n\n    .dataframe tbody tr th {\n        vertical-align: top;\n    }\n\n    .dataframe thead th {\n        text-align: right;\n    }\n</style>\n<table border=\"1\" class=\"dataframe\">\n  <thead>\n    <tr style=\"text-align: right;\">\n      <th></th>\n      <th>group1</th>\n      <th>group2</th>\n      <th>v1-v2_lessthan</th>\n    </tr>\n  </thead>\n  <tbody>\n    <tr>\n      <th>0</th>\n      <td>A</td>\n      <td>a</td>\n      <td>0</td>\n    </tr>\n    <tr>\n      <th>1</th>\n      <td>A</td>\n      <td>b</td>\n      <td>0</td>\n    </tr>\n    <tr>\n      <th>2</th>\n      <td>B</td>\n      <td>b</td>\n      <td>0</td>\n    </tr>\n    <tr>\n      <th>3</th>\n      <td>B</td>\n      <td>c</td>\n      <td>1</td>\n    </tr>\n  </tbody>\n</table>\n</div>"
     },
     "execution_count": 54,
     "metadata": {},
     "output_type": "execute_result"
    }
   ],
   "source": [
    "def lessthan(group, col1, col2) :\n",
    "    return  (group[col1] > group[col2]).sum()\n",
    "\n",
    "tgt_names_func_list = [(\"v1\", \"v2\",  lessthan)] \n",
    "\n",
    "gcop = GroupbyChainOperator(df)\n",
    "(\n",
    "    gcop.update_by_apply2_agg([\"group1\", \"group2\"], \"\", tgt_names_func_list)\n",
    "    .update_by_agg([\"group1\", \"group2\"], func_dict={\"sum\":\"sum\"})\n",
    "     \n",
    ")\n"
   ],
   "metadata": {
    "collapsed": false,
    "ExecuteTime": {
     "end_time": "2023-12-27T23:47:35.109322200Z",
     "start_time": "2023-12-27T23:47:35.006731200Z"
    }
   },
   "id": "ce1dbd330f60f994",
   "execution_count": 54
  },
  {
   "cell_type": "code",
   "outputs": [
    {
     "data": {
      "text/plain": "  group1 group2   v1  v2\n0      A      a    0  29\n1      A      a    1  28\n2      A      a    2  27\n3      A      b    3  26\n4      A      b    4  25\n5      A      b    5  24\n6      B      b    6  23\n7      B      c    7  22\n8      B      c    8  21\n9      B      c  100  20",
      "text/html": "<div>\n<style scoped>\n    .dataframe tbody tr th:only-of-type {\n        vertical-align: middle;\n    }\n\n    .dataframe tbody tr th {\n        vertical-align: top;\n    }\n\n    .dataframe thead th {\n        text-align: right;\n    }\n</style>\n<table border=\"1\" class=\"dataframe\">\n  <thead>\n    <tr style=\"text-align: right;\">\n      <th></th>\n      <th>group1</th>\n      <th>group2</th>\n      <th>v1</th>\n      <th>v2</th>\n    </tr>\n  </thead>\n  <tbody>\n    <tr>\n      <th>0</th>\n      <td>A</td>\n      <td>a</td>\n      <td>0</td>\n      <td>29</td>\n    </tr>\n    <tr>\n      <th>1</th>\n      <td>A</td>\n      <td>a</td>\n      <td>1</td>\n      <td>28</td>\n    </tr>\n    <tr>\n      <th>2</th>\n      <td>A</td>\n      <td>a</td>\n      <td>2</td>\n      <td>27</td>\n    </tr>\n    <tr>\n      <th>3</th>\n      <td>A</td>\n      <td>b</td>\n      <td>3</td>\n      <td>26</td>\n    </tr>\n    <tr>\n      <th>4</th>\n      <td>A</td>\n      <td>b</td>\n      <td>4</td>\n      <td>25</td>\n    </tr>\n    <tr>\n      <th>5</th>\n      <td>A</td>\n      <td>b</td>\n      <td>5</td>\n      <td>24</td>\n    </tr>\n    <tr>\n      <th>6</th>\n      <td>B</td>\n      <td>b</td>\n      <td>6</td>\n      <td>23</td>\n    </tr>\n    <tr>\n      <th>7</th>\n      <td>B</td>\n      <td>c</td>\n      <td>7</td>\n      <td>22</td>\n    </tr>\n    <tr>\n      <th>8</th>\n      <td>B</td>\n      <td>c</td>\n      <td>8</td>\n      <td>21</td>\n    </tr>\n    <tr>\n      <th>9</th>\n      <td>B</td>\n      <td>c</td>\n      <td>100</td>\n      <td>20</td>\n    </tr>\n  </tbody>\n</table>\n</div>"
     },
     "execution_count": 55,
     "metadata": {},
     "output_type": "execute_result"
    }
   ],
   "source": [
    "gcop.get_output_df(0, False)"
   ],
   "metadata": {
    "collapsed": false,
    "ExecuteTime": {
     "end_time": "2023-12-27T23:47:35.174376Z",
     "start_time": "2023-12-27T23:47:35.076292800Z"
    }
   },
   "id": "2d32eaa6ee0c5221",
   "execution_count": 55
  },
  {
   "cell_type": "code",
   "outputs": [
    {
     "data": {
      "text/plain": "  group1 group2  v1-v2_lessthan\n0      A      a               0\n1      A      b               0\n2      B      b               0\n3      B      c               1",
      "text/html": "<div>\n<style scoped>\n    .dataframe tbody tr th:only-of-type {\n        vertical-align: middle;\n    }\n\n    .dataframe tbody tr th {\n        vertical-align: top;\n    }\n\n    .dataframe thead th {\n        text-align: right;\n    }\n</style>\n<table border=\"1\" class=\"dataframe\">\n  <thead>\n    <tr style=\"text-align: right;\">\n      <th></th>\n      <th>group1</th>\n      <th>group2</th>\n      <th>v1-v2_lessthan</th>\n    </tr>\n  </thead>\n  <tbody>\n    <tr>\n      <th>0</th>\n      <td>A</td>\n      <td>a</td>\n      <td>0</td>\n    </tr>\n    <tr>\n      <th>1</th>\n      <td>A</td>\n      <td>b</td>\n      <td>0</td>\n    </tr>\n    <tr>\n      <th>2</th>\n      <td>B</td>\n      <td>b</td>\n      <td>0</td>\n    </tr>\n    <tr>\n      <th>3</th>\n      <td>B</td>\n      <td>c</td>\n      <td>1</td>\n    </tr>\n  </tbody>\n</table>\n</div>"
     },
     "execution_count": 56,
     "metadata": {},
     "output_type": "execute_result"
    }
   ],
   "source": [
    "gcop.get_output_df(1, False)"
   ],
   "metadata": {
    "collapsed": false,
    "ExecuteTime": {
     "end_time": "2023-12-27T23:47:35.282971900Z",
     "start_time": "2023-12-27T23:47:35.178377200Z"
    }
   },
   "id": "66354149013d60c3",
   "execution_count": 56
  },
  {
   "cell_type": "code",
   "outputs": [
    {
     "data": {
      "text/plain": "  group1 group2   v1  v2  v1-v2_lessthan  v1-v2_lessthan_sum\n0      A      a    0  29               0                   0\n1      A      a    1  28               0                   0\n2      A      a    2  27               0                   0\n3      A      b    3  26               0                   0\n4      A      b    4  25               0                   0\n5      A      b    5  24               0                   0\n6      B      b    6  23               0                   0\n7      B      c    7  22               1                   1\n8      B      c    8  21               1                   1\n9      B      c  100  20               1                   1",
      "text/html": "<div>\n<style scoped>\n    .dataframe tbody tr th:only-of-type {\n        vertical-align: middle;\n    }\n\n    .dataframe tbody tr th {\n        vertical-align: top;\n    }\n\n    .dataframe thead th {\n        text-align: right;\n    }\n</style>\n<table border=\"1\" class=\"dataframe\">\n  <thead>\n    <tr style=\"text-align: right;\">\n      <th></th>\n      <th>group1</th>\n      <th>group2</th>\n      <th>v1</th>\n      <th>v2</th>\n      <th>v1-v2_lessthan</th>\n      <th>v1-v2_lessthan_sum</th>\n    </tr>\n  </thead>\n  <tbody>\n    <tr>\n      <th>0</th>\n      <td>A</td>\n      <td>a</td>\n      <td>0</td>\n      <td>29</td>\n      <td>0</td>\n      <td>0</td>\n    </tr>\n    <tr>\n      <th>1</th>\n      <td>A</td>\n      <td>a</td>\n      <td>1</td>\n      <td>28</td>\n      <td>0</td>\n      <td>0</td>\n    </tr>\n    <tr>\n      <th>2</th>\n      <td>A</td>\n      <td>a</td>\n      <td>2</td>\n      <td>27</td>\n      <td>0</td>\n      <td>0</td>\n    </tr>\n    <tr>\n      <th>3</th>\n      <td>A</td>\n      <td>b</td>\n      <td>3</td>\n      <td>26</td>\n      <td>0</td>\n      <td>0</td>\n    </tr>\n    <tr>\n      <th>4</th>\n      <td>A</td>\n      <td>b</td>\n      <td>4</td>\n      <td>25</td>\n      <td>0</td>\n      <td>0</td>\n    </tr>\n    <tr>\n      <th>5</th>\n      <td>A</td>\n      <td>b</td>\n      <td>5</td>\n      <td>24</td>\n      <td>0</td>\n      <td>0</td>\n    </tr>\n    <tr>\n      <th>6</th>\n      <td>B</td>\n      <td>b</td>\n      <td>6</td>\n      <td>23</td>\n      <td>0</td>\n      <td>0</td>\n    </tr>\n    <tr>\n      <th>7</th>\n      <td>B</td>\n      <td>c</td>\n      <td>7</td>\n      <td>22</td>\n      <td>1</td>\n      <td>1</td>\n    </tr>\n    <tr>\n      <th>8</th>\n      <td>B</td>\n      <td>c</td>\n      <td>8</td>\n      <td>21</td>\n      <td>1</td>\n      <td>1</td>\n    </tr>\n    <tr>\n      <th>9</th>\n      <td>B</td>\n      <td>c</td>\n      <td>100</td>\n      <td>20</td>\n      <td>1</td>\n      <td>1</td>\n    </tr>\n  </tbody>\n</table>\n</div>"
     },
     "execution_count": 58,
     "metadata": {},
     "output_type": "execute_result"
    }
   ],
   "source": [
    "gcop.merge_all_level_df(False)"
   ],
   "metadata": {
    "collapsed": false,
    "ExecuteTime": {
     "end_time": "2023-12-27T23:47:35.398090600Z",
     "start_time": "2023-12-27T23:47:35.310496600Z"
    }
   },
   "id": "5c6693138583d5b0",
   "execution_count": 58
  },
  {
   "cell_type": "markdown",
   "source": [
    "## transform"
   ],
   "metadata": {
    "collapsed": false
   },
   "id": "b0e4f441bf85a726"
  },
  {
   "cell_type": "code",
   "outputs": [
    {
     "data": {
      "text/plain": "<gbychain.code.groupby_chain_operator.GroupbyChainOperator at 0x2759ed1cf40>"
     },
     "execution_count": 59,
     "metadata": {},
     "output_type": "execute_result"
    }
   ],
   "source": [
    "func_dict = {\"cumsum\":\"cumsum\"}\n",
    "func_dict2 = {    \n",
    "    \"ewm1\":lambda x: x.values,\n",
    "    \"ewm3\":lambda x: ewm_array(x.values, 3),\n",
    "}\n",
    "# func_dict2 = {\"sum\":\"sum\"}\n",
    "gcop = GroupbyChainOperator(df)\n",
    "(gcop.update_by_transform([\"group1\", \"group2\"],  tgt_names=[\"v1\", \"v2\"], func_dict=func_dict)\n",
    " .update_by_transform([\"group1\", \"group2\"], func_dict=func_dict2)\n",
    " )"
   ],
   "metadata": {
    "collapsed": false,
    "ExecuteTime": {
     "end_time": "2023-12-27T23:47:35.487669Z",
     "start_time": "2023-12-27T23:47:35.401601300Z"
    }
   },
   "id": "ca0a9a479408b306",
   "execution_count": 59
  },
  {
   "cell_type": "code",
   "outputs": [
    {
     "data": {
      "text/plain": "  group1 group2   v1  v2\n0      A      a    0  29\n1      A      a    1  28\n2      A      a    2  27\n3      A      b    3  26\n4      A      b    4  25\n5      A      b    5  24\n6      B      b    6  23\n7      B      c    7  22\n8      B      c    8  21\n9      B      c  100  20",
      "text/html": "<div>\n<style scoped>\n    .dataframe tbody tr th:only-of-type {\n        vertical-align: middle;\n    }\n\n    .dataframe tbody tr th {\n        vertical-align: top;\n    }\n\n    .dataframe thead th {\n        text-align: right;\n    }\n</style>\n<table border=\"1\" class=\"dataframe\">\n  <thead>\n    <tr style=\"text-align: right;\">\n      <th></th>\n      <th>group1</th>\n      <th>group2</th>\n      <th>v1</th>\n      <th>v2</th>\n    </tr>\n  </thead>\n  <tbody>\n    <tr>\n      <th>0</th>\n      <td>A</td>\n      <td>a</td>\n      <td>0</td>\n      <td>29</td>\n    </tr>\n    <tr>\n      <th>1</th>\n      <td>A</td>\n      <td>a</td>\n      <td>1</td>\n      <td>28</td>\n    </tr>\n    <tr>\n      <th>2</th>\n      <td>A</td>\n      <td>a</td>\n      <td>2</td>\n      <td>27</td>\n    </tr>\n    <tr>\n      <th>3</th>\n      <td>A</td>\n      <td>b</td>\n      <td>3</td>\n      <td>26</td>\n    </tr>\n    <tr>\n      <th>4</th>\n      <td>A</td>\n      <td>b</td>\n      <td>4</td>\n      <td>25</td>\n    </tr>\n    <tr>\n      <th>5</th>\n      <td>A</td>\n      <td>b</td>\n      <td>5</td>\n      <td>24</td>\n    </tr>\n    <tr>\n      <th>6</th>\n      <td>B</td>\n      <td>b</td>\n      <td>6</td>\n      <td>23</td>\n    </tr>\n    <tr>\n      <th>7</th>\n      <td>B</td>\n      <td>c</td>\n      <td>7</td>\n      <td>22</td>\n    </tr>\n    <tr>\n      <th>8</th>\n      <td>B</td>\n      <td>c</td>\n      <td>8</td>\n      <td>21</td>\n    </tr>\n    <tr>\n      <th>9</th>\n      <td>B</td>\n      <td>c</td>\n      <td>100</td>\n      <td>20</td>\n    </tr>\n  </tbody>\n</table>\n</div>"
     },
     "execution_count": 60,
     "metadata": {},
     "output_type": "execute_result"
    }
   ],
   "source": [
    "gcop.get_output_df(0, False)"
   ],
   "metadata": {
    "collapsed": false,
    "ExecuteTime": {
     "end_time": "2023-12-27T23:47:35.542726Z",
     "start_time": "2023-12-27T23:47:35.454141600Z"
    }
   },
   "id": "330a83d1b3821c77",
   "execution_count": 60
  },
  {
   "cell_type": "code",
   "outputs": [
    {
     "data": {
      "text/plain": "  group1 group2  v1_cumsum  v2_cumsum\n0      A      a        0.0       29.0\n1      A      a        1.0       57.0\n2      A      a        3.0       84.0\n3      A      b        3.0       26.0\n4      A      b        7.0       51.0\n5      A      b       12.0       75.0\n6      B      b        6.0       23.0\n7      B      c        7.0       22.0\n8      B      c       15.0       43.0\n9      B      c      115.0       63.0",
      "text/html": "<div>\n<style scoped>\n    .dataframe tbody tr th:only-of-type {\n        vertical-align: middle;\n    }\n\n    .dataframe tbody tr th {\n        vertical-align: top;\n    }\n\n    .dataframe thead th {\n        text-align: right;\n    }\n</style>\n<table border=\"1\" class=\"dataframe\">\n  <thead>\n    <tr style=\"text-align: right;\">\n      <th></th>\n      <th>group1</th>\n      <th>group2</th>\n      <th>v1_cumsum</th>\n      <th>v2_cumsum</th>\n    </tr>\n  </thead>\n  <tbody>\n    <tr>\n      <th>0</th>\n      <td>A</td>\n      <td>a</td>\n      <td>0.0</td>\n      <td>29.0</td>\n    </tr>\n    <tr>\n      <th>1</th>\n      <td>A</td>\n      <td>a</td>\n      <td>1.0</td>\n      <td>57.0</td>\n    </tr>\n    <tr>\n      <th>2</th>\n      <td>A</td>\n      <td>a</td>\n      <td>3.0</td>\n      <td>84.0</td>\n    </tr>\n    <tr>\n      <th>3</th>\n      <td>A</td>\n      <td>b</td>\n      <td>3.0</td>\n      <td>26.0</td>\n    </tr>\n    <tr>\n      <th>4</th>\n      <td>A</td>\n      <td>b</td>\n      <td>7.0</td>\n      <td>51.0</td>\n    </tr>\n    <tr>\n      <th>5</th>\n      <td>A</td>\n      <td>b</td>\n      <td>12.0</td>\n      <td>75.0</td>\n    </tr>\n    <tr>\n      <th>6</th>\n      <td>B</td>\n      <td>b</td>\n      <td>6.0</td>\n      <td>23.0</td>\n    </tr>\n    <tr>\n      <th>7</th>\n      <td>B</td>\n      <td>c</td>\n      <td>7.0</td>\n      <td>22.0</td>\n    </tr>\n    <tr>\n      <th>8</th>\n      <td>B</td>\n      <td>c</td>\n      <td>15.0</td>\n      <td>43.0</td>\n    </tr>\n    <tr>\n      <th>9</th>\n      <td>B</td>\n      <td>c</td>\n      <td>115.0</td>\n      <td>63.0</td>\n    </tr>\n  </tbody>\n</table>\n</div>"
     },
     "execution_count": 61,
     "metadata": {},
     "output_type": "execute_result"
    }
   ],
   "source": [
    "gcop.get_output_df(1, False)"
   ],
   "metadata": {
    "collapsed": false,
    "ExecuteTime": {
     "end_time": "2023-12-27T23:47:35.599277200Z",
     "start_time": "2023-12-27T23:47:35.527705300Z"
    }
   },
   "id": "e97f94ebf0e9447d",
   "execution_count": 61
  },
  {
   "cell_type": "code",
   "outputs": [
    {
     "data": {
      "text/plain": "   group1 group2   v1  v2  v1_cumsum  v2_cumsum  v1_cumsum_ewm1  \\\n0       A      a    0  29        0.0       29.0             0.0   \n1       A      a    0  29        0.0       29.0             1.0   \n2       A      a    0  29        0.0       29.0             3.0   \n3       A      a    0  29        1.0       57.0             0.0   \n4       A      a    0  29        1.0       57.0             1.0   \n..    ...    ...  ...  ..        ...        ...             ...   \n77      B      c  100  20       15.0       43.0            15.0   \n78      B      c  100  20       15.0       43.0           115.0   \n79      B      c  100  20      115.0       63.0             7.0   \n80      B      c  100  20      115.0       63.0            15.0   \n81      B      c  100  20      115.0       63.0           115.0   \n\n    v1_cumsum_ewm3  v2_cumsum_ewm1  v2_cumsum_ewm3  \n0             0.00            29.0           29.00  \n1             0.50            57.0           43.00  \n2             1.75            84.0           63.50  \n3             0.00            29.0           29.00  \n4             0.50            57.0           43.00  \n..             ...             ...             ...  \n77           11.00            43.0           32.50  \n78           63.00            63.0           47.75  \n79            7.00            22.0           22.00  \n80           11.00            43.0           32.50  \n81           63.00            63.0           47.75  \n\n[82 rows x 10 columns]",
      "text/html": "<div>\n<style scoped>\n    .dataframe tbody tr th:only-of-type {\n        vertical-align: middle;\n    }\n\n    .dataframe tbody tr th {\n        vertical-align: top;\n    }\n\n    .dataframe thead th {\n        text-align: right;\n    }\n</style>\n<table border=\"1\" class=\"dataframe\">\n  <thead>\n    <tr style=\"text-align: right;\">\n      <th></th>\n      <th>group1</th>\n      <th>group2</th>\n      <th>v1</th>\n      <th>v2</th>\n      <th>v1_cumsum</th>\n      <th>v2_cumsum</th>\n      <th>v1_cumsum_ewm1</th>\n      <th>v1_cumsum_ewm3</th>\n      <th>v2_cumsum_ewm1</th>\n      <th>v2_cumsum_ewm3</th>\n    </tr>\n  </thead>\n  <tbody>\n    <tr>\n      <th>0</th>\n      <td>A</td>\n      <td>a</td>\n      <td>0</td>\n      <td>29</td>\n      <td>0.0</td>\n      <td>29.0</td>\n      <td>0.0</td>\n      <td>0.00</td>\n      <td>29.0</td>\n      <td>29.00</td>\n    </tr>\n    <tr>\n      <th>1</th>\n      <td>A</td>\n      <td>a</td>\n      <td>0</td>\n      <td>29</td>\n      <td>0.0</td>\n      <td>29.0</td>\n      <td>1.0</td>\n      <td>0.50</td>\n      <td>57.0</td>\n      <td>43.00</td>\n    </tr>\n    <tr>\n      <th>2</th>\n      <td>A</td>\n      <td>a</td>\n      <td>0</td>\n      <td>29</td>\n      <td>0.0</td>\n      <td>29.0</td>\n      <td>3.0</td>\n      <td>1.75</td>\n      <td>84.0</td>\n      <td>63.50</td>\n    </tr>\n    <tr>\n      <th>3</th>\n      <td>A</td>\n      <td>a</td>\n      <td>0</td>\n      <td>29</td>\n      <td>1.0</td>\n      <td>57.0</td>\n      <td>0.0</td>\n      <td>0.00</td>\n      <td>29.0</td>\n      <td>29.00</td>\n    </tr>\n    <tr>\n      <th>4</th>\n      <td>A</td>\n      <td>a</td>\n      <td>0</td>\n      <td>29</td>\n      <td>1.0</td>\n      <td>57.0</td>\n      <td>1.0</td>\n      <td>0.50</td>\n      <td>57.0</td>\n      <td>43.00</td>\n    </tr>\n    <tr>\n      <th>...</th>\n      <td>...</td>\n      <td>...</td>\n      <td>...</td>\n      <td>...</td>\n      <td>...</td>\n      <td>...</td>\n      <td>...</td>\n      <td>...</td>\n      <td>...</td>\n      <td>...</td>\n    </tr>\n    <tr>\n      <th>77</th>\n      <td>B</td>\n      <td>c</td>\n      <td>100</td>\n      <td>20</td>\n      <td>15.0</td>\n      <td>43.0</td>\n      <td>15.0</td>\n      <td>11.00</td>\n      <td>43.0</td>\n      <td>32.50</td>\n    </tr>\n    <tr>\n      <th>78</th>\n      <td>B</td>\n      <td>c</td>\n      <td>100</td>\n      <td>20</td>\n      <td>15.0</td>\n      <td>43.0</td>\n      <td>115.0</td>\n      <td>63.00</td>\n      <td>63.0</td>\n      <td>47.75</td>\n    </tr>\n    <tr>\n      <th>79</th>\n      <td>B</td>\n      <td>c</td>\n      <td>100</td>\n      <td>20</td>\n      <td>115.0</td>\n      <td>63.0</td>\n      <td>7.0</td>\n      <td>7.00</td>\n      <td>22.0</td>\n      <td>22.00</td>\n    </tr>\n    <tr>\n      <th>80</th>\n      <td>B</td>\n      <td>c</td>\n      <td>100</td>\n      <td>20</td>\n      <td>115.0</td>\n      <td>63.0</td>\n      <td>15.0</td>\n      <td>11.00</td>\n      <td>43.0</td>\n      <td>32.50</td>\n    </tr>\n    <tr>\n      <th>81</th>\n      <td>B</td>\n      <td>c</td>\n      <td>100</td>\n      <td>20</td>\n      <td>115.0</td>\n      <td>63.0</td>\n      <td>115.0</td>\n      <td>63.00</td>\n      <td>63.0</td>\n      <td>47.75</td>\n    </tr>\n  </tbody>\n</table>\n<p>82 rows × 10 columns</p>\n</div>"
     },
     "execution_count": 63,
     "metadata": {},
     "output_type": "execute_result"
    }
   ],
   "source": [
    "gcop.merge_all_level_df(False)"
   ],
   "metadata": {
    "collapsed": false,
    "ExecuteTime": {
     "end_time": "2023-12-27T23:47:35.705013100Z",
     "start_time": "2023-12-27T23:47:35.650468Z"
    }
   },
   "id": "fffaa0a91a238495",
   "execution_count": 63
  },
  {
   "cell_type": "code",
   "outputs": [
    {
     "data": {
      "text/plain": "'a-b'"
     },
     "execution_count": 27,
     "metadata": {},
     "output_type": "execute_result"
    }
   ],
   "source": [
    "])"
   ],
   "metadata": {
    "collapsed": false,
    "ExecuteTime": {
     "end_time": "2023-12-27T22:17:29.681777800Z",
     "start_time": "2023-12-27T22:17:29.451794700Z"
    }
   },
   "id": "896d590ca39d186e",
   "execution_count": 27
  }
 ],
 "metadata": {
  "kernelspec": {
   "name": "base",
   "language": "python",
   "display_name": "base"
  },
  "language_info": {
   "codemirror_mode": {
    "name": "ipython",
    "version": 2
   },
   "file_extension": ".py",
   "mimetype": "text/x-python",
   "name": "python",
   "nbconvert_exporter": "python",
   "pygments_lexer": "ipython2",
   "version": "2.7.6"
  }
 },
 "nbformat": 4,
 "nbformat_minor": 5
}
